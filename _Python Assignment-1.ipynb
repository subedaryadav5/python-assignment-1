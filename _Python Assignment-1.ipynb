{
 "cells": [
  {
   "cell_type": "code",
   "execution_count": 1,
   "id": "39e60b9a-3864-45cc-9dd9-d534b8b2bb5b",
   "metadata": {},
   "outputs": [],
   "source": [
    "\"\"\"Q1. Which keyword is used to create a function? Create a function to return a list of odd numbers in the\n",
    "range of 1 to 25.\n",
    "\n",
    "Ans : The keyword used to create a function is \"def\".\"\"\"\n",
    "\n",
    "def get_odd_numbers():\n",
    "    \n",
    "    list_of_odd_numbers=[]\n",
    "    \n",
    "    for i in range(1,26):\n",
    "        if i%2 !=0:\n",
    "            list_of_odd_numbers.append(i)\n",
    "    return list_of_odd_numbers"
   ]
  },
  {
   "cell_type": "code",
   "execution_count": 2,
   "id": "e88c6a47-d854-48d0-b11b-c464e8ca88a9",
   "metadata": {},
   "outputs": [
    {
     "data": {
      "text/plain": [
       "[1, 3, 5, 7, 9, 11, 13, 15, 17, 19, 21, 23, 25]"
      ]
     },
     "execution_count": 2,
     "metadata": {},
     "output_type": "execute_result"
    }
   ],
   "source": [
    "get_odd_numbers()"
   ]
  },
  {
   "cell_type": "code",
   "execution_count": 6,
   "id": "fcf6aa73-f4c3-479a-8c16-1b614ca9fbe1",
   "metadata": {},
   "outputs": [],
   "source": [
    "\"\"\"Q2. Why *args and **kwargs is used in some functions? Create a function each for *args and **kwargs\n",
    "to demonstrate their use.\"\"\"\n",
    "\n",
    "# *args is used to input n number is arguments in a function.\n",
    "\n",
    "def get_the_args(*args):\n",
    "    return args\n",
    "\n",
    "# **kwargs is used to input the arguments in key value pair.\n",
    "\n",
    "def get_the_kwargs(**kwargs):\n",
    "    return kwargs"
   ]
  },
  {
   "cell_type": "code",
   "execution_count": 5,
   "id": "2ad33b56-8c33-433e-a195-292228aba6a7",
   "metadata": {},
   "outputs": [
    {
     "data": {
      "text/plain": [
       "('Subedar', 'Yadav', 4, 15, 852, 852, [54, 5485, 55, 5])"
      ]
     },
     "execution_count": 5,
     "metadata": {},
     "output_type": "execute_result"
    }
   ],
   "source": [
    "get_the_args(\"Subedar\", \"Yadav\", 4,15,852,852, [54,5485,55,5])"
   ]
  },
  {
   "cell_type": "code",
   "execution_count": 7,
   "id": "65821b04-8578-4f16-ac3b-a803ef96bd2a",
   "metadata": {},
   "outputs": [
    {
     "data": {
      "text/plain": [
       "{'a': 'Subedar', 'b': 1543445, 'c': 'This is kwargs', 'd': [54, 212, 512]}"
      ]
     },
     "execution_count": 7,
     "metadata": {},
     "output_type": "execute_result"
    }
   ],
   "source": [
    "get_the_kwargs(a=\"Subedar\", b=1543445, c=\"This is kwargs\", d=[54,212,512,])"
   ]
  },
  {
   "cell_type": "code",
   "execution_count": 22,
   "id": "3651b6e8-f45b-4f74-a26c-599669eafb08",
   "metadata": {},
   "outputs": [
    {
     "name": "stdout",
     "output_type": "stream",
     "text": [
      "2\n",
      "4\n",
      "6\n",
      "8\n",
      "10\n"
     ]
    }
   ],
   "source": [
    "\"\"\"Q3. What is an iterator in python? Name the method used to initialise the iterator object and the method\n",
    "used for iteration. Use these methods to print the first five elements of the given list [2, 4, 6, 8, 10, 12, 14,\n",
    "16, 18, 20].\n",
    "\n",
    "Ans : In Python, an iterator is an object that allows you to iterate over a sequence of elements, one at a time.\n",
    "      The object which is itrable by default can be convered as itrator.\n",
    "      \n",
    "      \"iter()\" is used to initialize a itrator object and \n",
    "      \"next()\" is used to get the next element from itrator object.\"\"\"\n",
    "\n",
    "My_list=[2, 4, 6, 8, 10, 12, 14,16, 18, 20]\n",
    "\n",
    "My_itrator =iter(My_list)\n",
    "\n",
    "for i in range(5):\n",
    "    i = next(My_itrator)\n",
    "    print(i)"
   ]
  },
  {
   "cell_type": "code",
   "execution_count": 27,
   "id": "baaaa993-24e2-4beb-943e-b7f213ae5a54",
   "metadata": {},
   "outputs": [],
   "source": [
    "\"\"\"Q4. What is a generator function in python? Why yield keyword is used? Give an example of a generator\n",
    "function.\n",
    "\n",
    "\n",
    "Ans : Generator Function is a type of function in which outcome is generated one by one instead to computing the entire data\n",
    "      and returing the outcome at the end, this reduces the memory consumtion.\n",
    "      \n",
    "      Yield is a special reserved keyword/function that is used to create a generator function.\"\"\"\n",
    "\n",
    "def table_of_2(n):\n",
    "    \n",
    "    a=2\n",
    "    for i in range(n) :\n",
    "        yield a\n",
    "        a=a+2"
   ]
  },
  {
   "cell_type": "code",
   "execution_count": 28,
   "id": "d344abc5-58b5-433b-bc00-62d74fe5dc26",
   "metadata": {},
   "outputs": [
    {
     "data": {
      "text/plain": [
       "<generator object table_of_2 at 0x7f6ad4a78820>"
      ]
     },
     "execution_count": 28,
     "metadata": {},
     "output_type": "execute_result"
    }
   ],
   "source": [
    "table_of_2(10)"
   ]
  },
  {
   "cell_type": "code",
   "execution_count": 29,
   "id": "9dd71178-a2e1-4a31-8888-afdb4796c955",
   "metadata": {},
   "outputs": [
    {
     "name": "stdout",
     "output_type": "stream",
     "text": [
      "2\n",
      "4\n",
      "6\n",
      "8\n",
      "10\n",
      "12\n",
      "14\n",
      "16\n",
      "18\n",
      "20\n"
     ]
    }
   ],
   "source": [
    "for i in table_of_2(10):\n",
    "    print(i)"
   ]
  },
  {
   "cell_type": "code",
   "execution_count": 1,
   "id": "cebcc603-aa9c-4108-8202-82a9a7323ae7",
   "metadata": {},
   "outputs": [
    {
     "name": "stdout",
     "output_type": "stream",
     "text": [
      "2\n",
      "3\n",
      "5\n",
      "7\n",
      "11\n",
      "13\n",
      "17\n",
      "19\n",
      "23\n",
      "29\n",
      "31\n",
      "37\n",
      "41\n",
      "43\n",
      "47\n",
      "53\n",
      "59\n",
      "61\n",
      "67\n",
      "71\n"
     ]
    }
   ],
   "source": [
    "'''Q5. Create a generator function for prime numbers less than 1000. Use the next() method to print the\n",
    "first 20 prime numbers.'''\n",
    "\n",
    "def is_prime(n):\n",
    "    if n <= 1:\n",
    "        return False\n",
    "    for i in range(2, int(n ** 0.5) + 1):\n",
    "        if n % i == 0:\n",
    "            return False\n",
    "    return True\n",
    "\n",
    "def prime_generator(limit):\n",
    "    num = 2\n",
    "    while num < limit:\n",
    "        if is_prime(num):\n",
    "            yield num\n",
    "        num += 1\n",
    "\n",
    "# Using the generator to print the first 20 prime numbers\n",
    "prime_gen = prime_generator(1000)\n",
    "for _ in range(20):\n",
    "    print(next(prime_gen))\n",
    "\n"
   ]
  },
  {
   "cell_type": "code",
   "execution_count": 2,
   "id": "fa851b5f-7bec-4981-9ab5-b1deaafc6d3e",
   "metadata": {},
   "outputs": [
    {
     "name": "stdout",
     "output_type": "stream",
     "text": [
      "[0, 1, 1, 2, 3, 5, 8, 13, 21, 34]\n"
     ]
    }
   ],
   "source": [
    "'''Q6. Write a python program to print the first 10 Fibonacci numbers using a while loop.'''\n",
    "\n",
    "def fibonacci(n):\n",
    "    fib_sequence = [0, 1]\n",
    "    while len(fib_sequence) < n:\n",
    "        next_num = fib_sequence[-1] + fib_sequence[-2]\n",
    "        fib_sequence.append(next_num)\n",
    "    return fib_sequence\n",
    "\n",
    "# Print the first 10 Fibonacci numbers\n",
    "first_10_fibonacci = fibonacci(10)\n",
    "print(first_10_fibonacci)\n"
   ]
  },
  {
   "cell_type": "code",
   "execution_count": 74,
   "id": "350f125a-8d4c-4a1e-b0eb-5e201ac50760",
   "metadata": {},
   "outputs": [
    {
     "name": "stdout",
     "output_type": "stream",
     "text": [
      "['p', 'w', 's', 'k', 'i', 'l', 'l', 's']\n"
     ]
    }
   ],
   "source": [
    "'''Q7. Write a List Comprehension to iterate through the given string: ‘pwskills’.\n",
    "Expected output: ['p', 'w', 's', 'k', 'i', 'l', 'l', 's']'''\n",
    "\n",
    "My_course=\"pwskills\"\n",
    "\n",
    "My_itrator = iter(My_course)\n",
    "My_list=[]\n",
    "\n",
    "for i in My_course:\n",
    "    i=next(My_itrator)\n",
    "    My_list.append(i)\n",
    "print(My_list)"
   ]
  },
  {
   "cell_type": "code",
   "execution_count": null,
   "id": "e5a154ca-8849-425b-aa8b-c47a480c06fc",
   "metadata": {},
   "outputs": [],
   "source": [
    "'''Q8. Write a python program to check whether a given number is Palindrome or not using a while loop.'''"
   ]
  },
  {
   "cell_type": "code",
   "execution_count": 129,
   "id": "cd4941a1-c476-4a88-ab80-abb760d59c2e",
   "metadata": {},
   "outputs": [
    {
     "name": "stdout",
     "output_type": "stream",
     "text": [
      "[1, 2, 3, 4, 5, 6, 7, 8, 9, 10, 11, 12, 13, 14, 15, 16, 17, 18, 19, 20, 21, 22, 23, 24, 25, 26, 27, 28, 29, 30, 31, 32, 33, 34, 35, 36, 37, 38, 39, 40, 41, 42, 43, 44, 45, 46, 47, 48, 49, 50, 51, 52, 53, 54, 55, 56, 57, 58, 59, 60, 61, 62, 63, 64, 65, 66, 67, 68, 69, 70, 71, 72, 73, 74, 75, 76, 77, 78, 79, 80, 81, 82, 83, 84, 85, 86, 87, 88, 89, 90, 91, 92, 93, 94, 95, 96, 97, 98, 99, 100]\n",
      "This list of odd number is : [1, 3, 5, 7, 9, 11, 13, 15, 17, 19, 21, 23, 25, 27, 29, 31, 33, 35, 37, 39, 41, 43, 45, 47, 49, 51, 53, 55, 57, 59, 61, 63, 65, 67, 69, 71, 73, 75, 77, 79, 81, 83, 85, 87, 89, 91, 93, 95, 97, 99]\n"
     ]
    }
   ],
   "source": [
    "'''Q9. Write a code to print odd numbers from 1 to 100 using list comprehension.\n",
    "Note: Use a list comprehension to create a list from 1 to 100 and use another List comprehension to filter\n",
    "out odd numbers.'''\n",
    "\n",
    "List_of_numbers=[num for num in range(1,101)]                                  \n",
    "List_of_odd_numbers=[num for num in List_of_numbers if num %2 !=0]\n",
    "   \n",
    "print(List_of_numbers)\n",
    "\n",
    "print(f\"This list of odd number is : {List_of_odd_numbers}\")"
   ]
  }
 ],
 "metadata": {
  "kernelspec": {
   "display_name": "Python 3 (ipykernel)",
   "language": "python",
   "name": "python3"
  },
  "language_info": {
   "codemirror_mode": {
    "name": "ipython",
    "version": 3
   },
   "file_extension": ".py",
   "mimetype": "text/x-python",
   "name": "python",
   "nbconvert_exporter": "python",
   "pygments_lexer": "ipython3",
   "version": "3.10.8"
  }
 },
 "nbformat": 4,
 "nbformat_minor": 5
}
